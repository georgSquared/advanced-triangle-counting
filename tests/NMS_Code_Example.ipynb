{
  "nbformat": 4,
  "nbformat_minor": 0,
  "metadata": {
    "colab": {
      "name": "NMS_Code_Example.ipynb",
      "provenance": []
    },
    "kernelspec": {
      "name": "python3",
      "display_name": "Python 3"
    },
    "language_info": {
      "name": "python"
    }
  },
  "cells": [
    {
      "cell_type": "markdown",
      "source": [
        "# OVERVIEW\n",
        "\n",
        "from NMS import Neighborhood_Multi_Sampling\n",
        "\n",
        "NMS.py shall be added in the files section (upper left corner of the notebook).\n",
        "\n",
        "We create a graph with the use of gnm_random_graph from networkx\n",
        "\n",
        "We transform the graph into a txt file in order to be used from NMS.\n",
        "\n",
        "We calculate the number of triangles inside the graph with the use of networkx and NMS."
      ],
      "metadata": {
        "id": "oLJQHr69FRa-"
      }
    },
    {
      "cell_type": "markdown",
      "source": [
        "# CLASS DESCRIPTION"
      ],
      "metadata": {
        "id": "KjdYKJn0dXA_"
      }
    },
    {
      "cell_type": "code",
      "source": [
        "#Class Neighborhood_Multi_Sampling(graph = None, L1 = {}, D1 = set(), L2 = [], timeL2 = [], Y = [], counter = 0, p=0.2,  q=0.2))\n",
        "#\n",
        "#Parameters\n",
        "#  •\tgraph : String, default=None\n",
        "#     the name of the input file containing the graph. The input file should be a .txt.\n",
        "#  •\tL1 : Dictionary, default={}\n",
        "#     Dictionary of tuples as keys, each tuple represents an edge of the graph. \n",
        "#     The value of each key is an int counter representing the number of edges \n",
        "#     existing in L1 when the current edge was added.\n",
        "#  •\tD1 :  Set of ints, default=set()\n",
        "#     A set of numbers distinct numbers, showing which nodes have been added in L1.\n",
        "#  •\tL2 :  A counter, default=0\n",
        "#     An integer representing the estimated number of triangles found in the \n",
        "#     sampled edges\n",
        "#  •\ttimeL2 : List of ints, default=[]\n",
        "#     A list of numbers, each number represents the time an edge is added in L2 \n",
        "#     compared to the edges existing in L1.\n",
        "#  •\tY : An integer representing the estimated number of triangles found in the \n",
        "#     sampled edges\n",
        "#  •\tp : Float, default=0.2\n",
        "#     The probability to add edge in L1.\n",
        "#  •\tq : Float, default=0.2\n",
        "#     The probability to add edge in L2.\n",
        "#"
      ],
      "metadata": {
        "id": "AUSMMojddGlh"
      },
      "execution_count": null,
      "outputs": []
    },
    {
      "cell_type": "markdown",
      "source": [
        "# EXAMPLE"
      ],
      "metadata": {
        "id": "ak3suZQCdchb"
      }
    },
    {
      "cell_type": "code",
      "source": [
        "from NMS import Neighborhood_Multi_Sampling\n",
        "from networkx import gnm_random_graph\n",
        "import networkx as nx\n",
        "\n",
        "def count_triangles(G):\n",
        "    return int(sum(nx.triangles(G).values()) / 3)\n",
        "\n",
        "RANDOM_SEED = 42\n",
        "random_graph = gnm_random_graph(100, 5000, RANDOM_SEED)\n",
        "\n",
        "f = open(\"myNewGraph.txt\", \"w\")\n",
        "for edge in random_graph.edges():\n",
        "  f.write(str(edge[0]) + \" \" + str(edge[1]) + \"\\n\")\n",
        "f.close()\n",
        "\n",
        "print(\"with networkx triangles = \", count_triangles(random_graph))\n",
        "\n",
        "NMS_instance = Neighborhood_Multi_Sampling('myNewGraph.txt')\n",
        "print(\"with NMS triangles =\", NMS_instance.get_num_triang(100))"
      ],
      "metadata": {
        "colab": {
          "base_uri": "https://localhost:8080/"
        },
        "id": "QXGgxCX0nneS",
        "outputId": "f26f2655-55af-4ff0-fa8e-b83e317a128a"
      },
      "execution_count": 1,
      "outputs": [
        {
          "output_type": "stream",
          "name": "stdout",
          "text": [
            "with networkx triangles =  161700\n",
            "with NMS triangles = 153124\n"
          ]
        }
      ]
    }
  ]
}